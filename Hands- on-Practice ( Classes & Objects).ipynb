{
 "cells": [
  {
   "cell_type": "markdown",
   "id": "3ff4629c",
   "metadata": {},
   "source": [
    "##### Create a car class\n",
    "1. Create a Car class with two instance attributes:\n",
    "\n",
    "- color, which stores the name of the car’s color as a string\n",
    "\n",
    "- mileage, which stores the number of miles on the car as an integer\n",
    "\n",
    "Then instantiate two Car objects—a blue car with 20,000 miles and a red car with 30,000 miles—and print out their colors and mileage. \n",
    "\n",
    "Your output should look like this:\n",
    "\n",
    "The blue car has 20,000 miles.\n",
    "\n",
    "The red car has 30,000 miles."
   ]
  },
  {
   "cell_type": "raw",
   "id": "8bd4e10c",
   "metadata": {},
   "source": [
    "2. Create a Class with instance attributes\n",
    "Write a Python program to create a Vehicle class with max_speed and mileage instance attributes."
   ]
  },
  {
   "cell_type": "raw",
   "id": "dce591e4",
   "metadata": {},
   "source": [
    "3. Create a Vehicle class without any variables and methods"
   ]
  },
  {
   "cell_type": "raw",
   "id": "2b012d0f",
   "metadata": {},
   "source": [
    "4. Create a child class Bus that will inherit all of the variables and methods of the Vehicle class\n",
    "Expected output:\n",
    "    Vehicle Name: School Volvo Speed: 180 Mileage: 12"
   ]
  },
  {
   "cell_type": "raw",
   "id": "44c7c217",
   "metadata": {},
   "source": [
    "5. Define a property that must have the same value for every class instance (object)\n",
    "Define a class attribute”color” with a default value white. I.e., Every Vehicle should be white.\n",
    "\n",
    "Use the following code for this exercise.\n",
    "class Vehicle:\n",
    "\n",
    "    def __init__(self, name, max_speed, mileage):\n",
    "        self.name = name\n",
    "        self.max_speed = max_speed\n",
    "        self.mileage = mileage\n",
    "\n",
    "class Bus(Vehicle):\n",
    "    pass\n",
    "class Car(Vehicle):\n",
    "    pass\n",
    "Expected Output:\n",
    "\n",
    "Color: White, Vehicle name: School Volvo, Speed: 180, Mileage: 12\n",
    "Color: White, Vehicle name: Audi Q5, Speed: 240, Mileage: 18"
   ]
  },
  {
   "cell_type": "raw",
   "id": "471f2cee",
   "metadata": {},
   "source": [
    "6. Create a Shark class and a Clownfish class, each of which will define methods for swim(), swim_backwards(), and skeleton()."
   ]
  }
 ],
 "metadata": {
  "kernelspec": {
   "display_name": "Python 3 (ipykernel)",
   "language": "python",
   "name": "python3"
  },
  "language_info": {
   "codemirror_mode": {
    "name": "ipython",
    "version": 3
   },
   "file_extension": ".py",
   "mimetype": "text/x-python",
   "name": "python",
   "nbconvert_exporter": "python",
   "pygments_lexer": "ipython3",
   "version": "3.9.12"
  }
 },
 "nbformat": 4,
 "nbformat_minor": 5
}
